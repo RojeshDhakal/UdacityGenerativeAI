{
 "cells": [
  {
   "cell_type": "markdown",
   "id": "4199bfc8-3030-4643-9862-3090a07a9f80",
   "metadata": {},
   "source": [
    "## CREATING SIMPLE CHATBOT"
   ]
  },
  {
   "cell_type": "code",
   "execution_count": 1,
   "id": "e86336d5-62a4-447c-b2ea-d96dc1f6716a",
   "metadata": {},
   "outputs": [],
   "source": [
    "import pandas as pd"
   ]
  },
  {
   "cell_type": "code",
   "execution_count": 5,
   "id": "eaa3dcbe-df9b-4b17-a935-ae827aa1236b",
   "metadata": {},
   "outputs": [],
   "source": [
    "responses = {\n",
    "    \"hi\": \"Hello! Welcome to TechGadget Support. How can I assist you today?\", \n",
    "    \"hello\": \"Hello! Welcome to TechGadget Support. How can I assist you today?\",\n",
    "    \"do you have smartwatches\": \"Yes, we have a variety of smartwatches. You can check them out on our products page.\",\n",
    "    \"shipping time\": \"Shipping usually takes 3-5 business days.\",\n",
    "    \"shipping methods\": \"We offer standard, expedited, and overnight shipping.\",\n",
    "    \"return policy\": \"You can return products within 30 days of receipt for a full refund.\",\n",
    "    \"how to return\": \"To return a product, please visit our returns page for a step-by-step guide.\",\n",
    "    \"won’t turn on\": \"Make sure your gadget is charged. If it still won’t turn on, you can visit our troubleshooting page.\",\n",
    "    \"reset device\": \"To reset your device, hold down the power button for 10 seconds. If that doesn't work, please check the manual for a factory reset.\",\n",
    "    \"bye\": \"Thank you for visiting TechGadget. If you have more questions, feel free to ask. Goodbye!\"\n",
    "}\n"
   ]
  },
  {
   "cell_type": "code",
   "execution_count": 13,
   "id": "98202376-5dd1-4f42-9623-58644cf9d953",
   "metadata": {},
   "outputs": [
    {
     "name": "stdin",
     "output_type": "stream",
     "text": [
      "You:  HELLO\n"
     ]
    },
    {
     "name": "stdout",
     "output_type": "stream",
     "text": [
      "Bot: Hello! Welcome to TechGadget Support. How can I assist you today?\n"
     ]
    },
    {
     "name": "stdin",
     "output_type": "stream",
     "text": [
      "You:  Hi\n"
     ]
    },
    {
     "name": "stdout",
     "output_type": "stream",
     "text": [
      "Bot: Hello! Welcome to TechGadget Support. How can I assist you today?\n"
     ]
    },
    {
     "name": "stdin",
     "output_type": "stream",
     "text": [
      "You:  ByE\n"
     ]
    },
    {
     "name": "stdout",
     "output_type": "stream",
     "text": [
      "Bot: Goodbye! If you have any more questions, we're here to help.\n"
     ]
    }
   ],
   "source": [
    "def get_bot_response(user_input):\n",
    "    user_input = user_input.lower()\n",
    "\n",
    "    for keyword, response in responses.items():\n",
    "        if keyword in user_input:\n",
    "            return response\n",
    "\n",
    "    return \"I'm not sure how to respond to that. Can you try asking something else?\"\n",
    "\n",
    "while True:\n",
    "    user_input = input(\"You: \")\n",
    "    if user_input.lower() in [\"quit\", \"exit\", \"bye\"]:\n",
    "        print(\"Bot: Goodbye! If you have any more questions, we're here to help.\")\n",
    "        break\n",
    "\n",
    "    response = get_bot_response(user_input)\n",
    "    print(f\"Bot: {response}\")"
   ]
  },
  {
   "cell_type": "code",
   "execution_count": 4,
   "id": "5da9605f-eb8d-4e85-9639-afac608ffc81",
   "metadata": {},
   "outputs": [
    {
     "data": {
      "text/plain": [
       "dict_items([('hi', 'Hello! Welcome to TechGadget Support. How can I assist you today?'), ('do you have smartwatches', 'Yes, we have a variety of smartwatches. You can check them out on our products page.'), ('shipping time', 'Shipping usually takes 3-5 business days.'), ('shipping methods', 'We offer standard, expedited, and overnight shipping.'), ('return policy', 'You can return products within 30 days of receipt for a full refund.'), ('how to return', 'To return a product, please visit our returns page for a step-by-step guide.'), ('won’t turn on', 'Make sure your gadget is charged. If it still won’t turn on, you can visit our troubleshooting page.'), ('reset device', \"To reset your device, hold down the power button for 10 seconds. If that doesn't work, please check the manual for a factory reset.\"), ('bye', 'Thank you for visiting TechGadget. If you have more questions, feel free to ask. Goodbye!')])"
      ]
     },
     "execution_count": 4,
     "metadata": {},
     "output_type": "execute_result"
    }
   ],
   "source": [
    "responses.items()"
   ]
  },
  {
   "cell_type": "code",
   "execution_count": 11,
   "id": "9890ae3b-3e50-47ac-a8d5-e7874cd9613a",
   "metadata": {},
   "outputs": [
    {
     "name": "stdin",
     "output_type": "stream",
     "text": [
      "You:  hi\n"
     ]
    },
    {
     "name": "stdout",
     "output_type": "stream",
     "text": [
      "Bot: Hello! Welcome to TechGadget Support. How can I assist you today?\n"
     ]
    },
    {
     "name": "stdin",
     "output_type": "stream",
     "text": [
      "You:  hello\n"
     ]
    },
    {
     "name": "stdout",
     "output_type": "stream",
     "text": [
      "Bot: Hello! Welcome to TechGadget Support. How can I assist you today?\n"
     ]
    },
    {
     "name": "stdin",
     "output_type": "stream",
     "text": [
      "You:  bye\n"
     ]
    },
    {
     "name": "stdout",
     "output_type": "stream",
     "text": [
      "Bot: Thanks for chatting. Have a good one\n"
     ]
    }
   ],
   "source": [
    "def bot_response(user_input):\n",
    "    user_input = user_input.lower()\n",
    "    \n",
    "    for keyword, response in responses.items():\n",
    "        if keyword in user_input:\n",
    "            return response\n",
    "    return 'Not Sure how to respond to that'\n",
    "\n",
    "while True:\n",
    "    user_input= input ('You: ')\n",
    "    if user_input in ['bye','exit','quit']:\n",
    "        print('Bot: Thanks for chatting. Have a good one')\n",
    "        break\n",
    "        \n",
    "    response= bot_response(user_input)\n",
    "    print(f\"Bot: {response}\")"
   ]
  },
  {
   "cell_type": "code",
   "execution_count": null,
   "id": "316b138f-ccd5-4d3a-a291-356806376704",
   "metadata": {},
   "outputs": [],
   "source": []
  }
 ],
 "metadata": {
  "kernelspec": {
   "display_name": "Python 3 (ipykernel)",
   "language": "python",
   "name": "python3"
  },
  "language_info": {
   "codemirror_mode": {
    "name": "ipython",
    "version": 3
   },
   "file_extension": ".py",
   "mimetype": "text/x-python",
   "name": "python",
   "nbconvert_exporter": "python",
   "pygments_lexer": "ipython3",
   "version": "3.9.13"
  }
 },
 "nbformat": 4,
 "nbformat_minor": 5
}
